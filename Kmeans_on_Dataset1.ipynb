{
 "cells": [
  {
   "cell_type": "markdown",
   "metadata": {},
   "source": [
    "# Importing Modules"
   ]
  },
  {
   "cell_type": "code",
   "execution_count": 1,
   "metadata": {},
   "outputs": [],
   "source": [
    "import numpy as np\n",
    "import pandas as pd\n",
    "import matplotlib.pyplot as plt\n",
    "import seaborn as sns"
   ]
  },
  {
   "cell_type": "markdown",
   "metadata": {},
   "source": [
    "# Reading the .csv file and converting to pandas dataframe"
   ]
  },
  {
   "cell_type": "code",
   "execution_count": 2,
   "metadata": {},
   "outputs": [
    {
     "data": {
      "text/html": [
       "<div>\n",
       "<style scoped>\n",
       "    .dataframe tbody tr th:only-of-type {\n",
       "        vertical-align: middle;\n",
       "    }\n",
       "\n",
       "    .dataframe tbody tr th {\n",
       "        vertical-align: top;\n",
       "    }\n",
       "\n",
       "    .dataframe thead th {\n",
       "        text-align: right;\n",
       "    }\n",
       "</style>\n",
       "<table border=\"1\" class=\"dataframe\">\n",
       "  <thead>\n",
       "    <tr style=\"text-align: right;\">\n",
       "      <th></th>\n",
       "      <th>Unnamed: 0</th>\n",
       "      <th>x1</th>\n",
       "      <th>x2</th>\n",
       "      <th>y</th>\n",
       "    </tr>\n",
       "  </thead>\n",
       "  <tbody>\n",
       "    <tr>\n",
       "      <th>0</th>\n",
       "      <td>0</td>\n",
       "      <td>4.475986</td>\n",
       "      <td>1.610147</td>\n",
       "      <td>1</td>\n",
       "    </tr>\n",
       "    <tr>\n",
       "      <th>1</th>\n",
       "      <td>1</td>\n",
       "      <td>0.309710</td>\n",
       "      <td>2.789669</td>\n",
       "      <td>1</td>\n",
       "    </tr>\n",
       "    <tr>\n",
       "      <th>2</th>\n",
       "      <td>2</td>\n",
       "      <td>4.398344</td>\n",
       "      <td>3.946847</td>\n",
       "      <td>1</td>\n",
       "    </tr>\n",
       "    <tr>\n",
       "      <th>3</th>\n",
       "      <td>3</td>\n",
       "      <td>-0.660853</td>\n",
       "      <td>2.801566</td>\n",
       "      <td>1</td>\n",
       "    </tr>\n",
       "    <tr>\n",
       "      <th>4</th>\n",
       "      <td>4</td>\n",
       "      <td>4.044945</td>\n",
       "      <td>4.343379</td>\n",
       "      <td>1</td>\n",
       "    </tr>\n",
       "  </tbody>\n",
       "</table>\n",
       "</div>"
      ],
      "text/plain": [
       "   Unnamed: 0        x1        x2  y\n",
       "0           0  4.475986  1.610147  1\n",
       "1           1  0.309710  2.789669  1\n",
       "2           2  4.398344  3.946847  1\n",
       "3           3 -0.660853  2.801566  1\n",
       "4           4  4.044945  4.343379  1"
      ]
     },
     "execution_count": 2,
     "metadata": {},
     "output_type": "execute_result"
    }
   ],
   "source": [
    "df = pd.read_csv(\"Datasets/Dataset_1.csv\")\n",
    "\n",
    "df.head()\n",
    "#train_X.shape"
   ]
  },
  {
   "cell_type": "code",
   "execution_count": 3,
   "metadata": {},
   "outputs": [],
   "source": [
    "df = df.drop(\"Unnamed: 0\",axis=1)"
   ]
  },
  {
   "cell_type": "code",
   "execution_count": 4,
   "metadata": {},
   "outputs": [],
   "source": [
    "#converting to numpy array\n",
    "dataset = df.values\n",
    "Y = dataset[:,-1]\n",
    "train_X = dataset[:,:-1]"
   ]
  },
  {
   "cell_type": "markdown",
   "metadata": {},
   "source": [
    "# Visualising the data provided using the labels given"
   ]
  },
  {
   "cell_type": "code",
   "execution_count": 5,
   "metadata": {},
   "outputs": [
    {
     "data": {
      "text/plain": [
       "<seaborn.axisgrid.FacetGrid at 0x1a21e371e50>"
      ]
     },
     "execution_count": 5,
     "metadata": {},
     "output_type": "execute_result"
    },
    {
     "data": {
      "image/png": "[encoded data removed]",
      "text/plain": [
       "<Figure size 690.375x432 with 1 Axes>"
      ]
     },
     "metadata": {
      "needs_background": "light"
     },
     "output_type": "display_data"
    }
   ],
   "source": [
    "sns.lmplot(data= df , x = \"x1\" , y = \"x2\" , hue = \"y\", fit_reg = False , height = 6 , aspect = 1.5  )"
   ]
  },
  {
   "cell_type": "code",
   "execution_count": 6,
   "metadata": {},
   "outputs": [],
   "source": [
    "def euclidean_distance(x1,x2):\n",
    "    return np.sqrt(np.sum((x1-x2)**2))"
   ]
  },
  {
   "cell_type": "markdown",
   "metadata": {},
   "source": [
    "# K-means Algorithm"
   ]
  },
  {
   "cell_type": "code",
   "execution_count": 7,
   "metadata": {},
   "outputs": [],
   "source": [
    "class Kmeans:\n",
    "    def __init__(self , K = 5, max_iters = 100 , plot_steps = False):\n",
    "        self.K = K;\n",
    "        self.max_iters = max_iters\n",
    "        self.plot_steps = plot_steps\n",
    "        \n",
    "        #initialising the cluster\n",
    "        self.clusters = [[] for _ in range(self.K)]\n",
    "        \n",
    "        #initialising the  centroid\n",
    "        self.centroids = []\n",
    "        \n",
    "    def predict(self , X):\n",
    "        self.X = X\n",
    "        self.n_samples , self.n_features = X.shape\n",
    "        \n",
    "        #initialise centroids\n",
    "        random_indices = np.random.choice(self.n_samples , self.K , replace = False)\n",
    "        self.centroids = [self.X[idx] for idx in random_indices]\n",
    "        \n",
    "        #optimization\n",
    "        for _ in range(self.max_iters):\n",
    "            \n",
    "            #update clusters\n",
    "            self.clusters = self._create_clusters(self.centroids)\n",
    "            if self.plot_steps:\n",
    "                self.plot()\n",
    "                \n",
    "            #update centroids\n",
    "            centroid_old = self.centroids\n",
    "            self.centroids = self._get_centroid(self.clusters)\n",
    "            if self.plot_steps:\n",
    "                self.plot()\n",
    "            \n",
    "            #check if converged\n",
    "            if self._is_converged(centroid_old, self.centroids):\n",
    "                break\n",
    "            \n",
    "        #return cluster_labels\n",
    "        return self._get_cluster_label(self.clusters)\n",
    "        \n",
    "    def _create_clusters(self , centroids):\n",
    "        clusters = [[] for _ in range(self.K)]\n",
    "        \n",
    "        for idx , sample in enumerate(self.X):\n",
    "            centroid_idx = self._closest_centroid(sample , centroids)\n",
    "            clusters[centroid_idx].append(idx)\n",
    "            \n",
    "        return clusters\n",
    "    \n",
    "    def _closest_centroid(self , sample , centroid):\n",
    "        distances = [euclidean_distance(sample , point) for point in centroid]\n",
    "        return np.argmin(distances)\n",
    "            \n",
    "    def _get_centroid(self , clusters):\n",
    "        centroids = np.zeros((self.K , self.n_features))\n",
    "        \n",
    "        for cluster_idx , cluster in enumerate(clusters):\n",
    "            cluster_mean = np.mean(self.X[cluster] , axis=0)\n",
    "            centroids[cluster_idx] = cluster_mean\n",
    "            \n",
    "        return centroids\n",
    "    \n",
    "    def _is_converged(self , old , new):\n",
    "        distances = [euclidean_distance(old[i],new[i]) for i in range(self.K)]\n",
    "        \n",
    "        return sum(distances) == 0\n",
    "    \n",
    "    def _get_cluster_label(self , clusters):\n",
    "        labels = np.empty(self.n_samples)\n",
    "        \n",
    "        for label , cluster in enumerate(clusters):\n",
    "            for idx in cluster:\n",
    "                labels[idx] = label + 1\n",
    "                \n",
    "        return labels\n",
    "    # optional helper function\n",
    "    def plot(self):\n",
    "        fig , ax = plt.subplots(figsize=(12,8))\n",
    "        \n",
    "        for i , index in enumerate(self.clusters):\n",
    "            point = self.X[index].T\n",
    "            ax.scatter(*point )\n",
    "            \n",
    "        for point in self.centroids:\n",
    "            ax.scatter(*point , marker = \"x\" ,color = \"black\" ,linewidth = 2)\n",
    "          \n",
    "        plt.show()"
   ]
  },
  {
   "cell_type": "code",
   "execution_count": 8,
   "metadata": {},
   "outputs": [],
   "source": [
    "k = Kmeans(K = 3 , max_iters = 150 )\n",
    "y_pred =k.predict(train_X)\n",
    "df[\"y_pred\"] = y_pred"
   ]
  },
  {
   "cell_type": "markdown",
   "metadata": {},
   "source": [
    "# Visualising the clusters created"
   ]
  },
  {
   "cell_type": "code",
   "execution_count": 9,
   "metadata": {},
   "outputs": [
    {
     "data": {
      "text/plain": [
       "<seaborn.axisgrid.FacetGrid at 0x1a21e214c10>"
      ]
     },
     "execution_count": 9,
     "metadata": {},
     "output_type": "execute_result"
    },
    {
     "data": {
      "image/png": "[encoded data removed]",
      "text/plain": [
       "<Figure size 700x432 with 1 Axes>"
      ]
     },
     "metadata": {
      "needs_background": "light"
     },
     "output_type": "display_data"
    }
   ],
   "source": [
    "sns.lmplot(data= df , x = \"x1\" , y = \"x2\" , hue = \"y_pred\", fit_reg = False , height = 6 , aspect = 1.5  )"
   ]
  },
  {
   "cell_type": "code",
   "execution_count": null,
   "metadata": {},
   "outputs": [],
   "source": []
  }
 ],
 "metadata": {
  "kernelspec": {
   "display_name": "Python 3",
   "language": "python",
   "name": "python3"
  },
  "language_info": {
   "codemirror_mode": {
    "name": "ipython",
    "version": 3
   },
   "file_extension": ".py",
   "mimetype": "text/x-python",
   "name": "python",
   "nbconvert_exporter": "python",
   "pygments_lexer": "ipython3",
   "version": "3.8.3"
  }
 },
 "nbformat": 4,
 "nbformat_minor": 4
}
